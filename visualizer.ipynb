{
 "cells": [
  {
   "cell_type": "markdown",
   "metadata": {},
   "source": [
    "## Imports\n"
   ]
  },
  {
   "cell_type": "code",
   "execution_count": 1,
   "metadata": {},
   "outputs": [],
   "source": [
    "import polars as pls\n",
    "import plotly\n",
    "import plotly.express as px"
   ]
  },
  {
   "cell_type": "markdown",
   "metadata": {},
   "source": [
    "#### data loading"
   ]
  },
  {
   "cell_type": "code",
   "execution_count": 24,
   "metadata": {},
   "outputs": [
    {
     "data": {
      "text/html": [
       "<div><style>\n",
       ".dataframe > thead > tr,\n",
       ".dataframe > tbody > tr {\n",
       "  text-align: right;\n",
       "  white-space: pre-wrap;\n",
       "}\n",
       "</style>\n",
       "<small>shape: (9, 55)</small><table border=\"1\" class=\"dataframe\"><thead><tr><th>statistic</th><th>timestamp</th><th>sensor_00</th><th>sensor_01</th><th>sensor_02</th><th>sensor_03</th><th>sensor_04</th><th>sensor_05</th><th>sensor_06</th><th>sensor_07</th><th>sensor_08</th><th>sensor_09</th><th>sensor_10</th><th>sensor_11</th><th>sensor_12</th><th>sensor_13</th><th>sensor_14</th><th>sensor_15</th><th>sensor_16</th><th>sensor_17</th><th>sensor_18</th><th>sensor_19</th><th>sensor_20</th><th>sensor_21</th><th>sensor_22</th><th>sensor_23</th><th>sensor_24</th><th>sensor_25</th><th>sensor_26</th><th>sensor_27</th><th>sensor_28</th><th>sensor_29</th><th>sensor_30</th><th>sensor_31</th><th>sensor_32</th><th>sensor_33</th><th>sensor_34</th><th>sensor_35</th><th>sensor_36</th><th>sensor_37</th><th>sensor_38</th><th>sensor_39</th><th>sensor_40</th><th>sensor_41</th><th>sensor_42</th><th>sensor_43</th><th>sensor_44</th><th>sensor_45</th><th>sensor_46</th><th>sensor_47</th><th>sensor_48</th><th>sensor_49</th><th>sensor_50</th><th>sensor_51</th><th>machine_status</th></tr><tr><td>str</td><td>str</td><td>f64</td><td>f64</td><td>f64</td><td>f64</td><td>f64</td><td>f64</td><td>f64</td><td>f64</td><td>f64</td><td>f64</td><td>f64</td><td>f64</td><td>f64</td><td>f64</td><td>f64</td><td>f64</td><td>f64</td><td>f64</td><td>f64</td><td>f64</td><td>f64</td><td>f64</td><td>f64</td><td>f64</td><td>f64</td><td>f64</td><td>f64</td><td>f64</td><td>f64</td><td>f64</td><td>f64</td><td>f64</td><td>f64</td><td>f64</td><td>f64</td><td>f64</td><td>f64</td><td>f64</td><td>f64</td><td>f64</td><td>f64</td><td>f64</td><td>f64</td><td>f64</td><td>f64</td><td>f64</td><td>f64</td><td>f64</td><td>f64</td><td>f64</td><td>f64</td><td>f64</td><td>str</td></tr></thead><tbody><tr><td>&quot;count&quot;</td><td>&quot;220320&quot;</td><td>210112.0</td><td>219951.0</td><td>220301.0</td><td>220301.0</td><td>220301.0</td><td>220301.0</td><td>215522.0</td><td>214869.0</td><td>215213.0</td><td>215725.0</td><td>220301.0</td><td>220301.0</td><td>220301.0</td><td>220301.0</td><td>220299.0</td><td>0.0</td><td>220289.0</td><td>220274.0</td><td>220274.0</td><td>220304.0</td><td>220304.0</td><td>220304.0</td><td>220279.0</td><td>220304.0</td><td>220304.0</td><td>220284.0</td><td>220300.0</td><td>220304.0</td><td>220304.0</td><td>220248.0</td><td>220059.0</td><td>220304.0</td><td>220252.0</td><td>220304.0</td><td>220304.0</td><td>220304.0</td><td>220304.0</td><td>220304.0</td><td>220293.0</td><td>220293.0</td><td>220293.0</td><td>220293.0</td><td>220293.0</td><td>220293.0</td><td>220293.0</td><td>220293.0</td><td>220293.0</td><td>220293.0</td><td>220293.0</td><td>220293.0</td><td>143303.0</td><td>204937.0</td><td>&quot;220320&quot;</td></tr><tr><td>&quot;null_count&quot;</td><td>&quot;0&quot;</td><td>10208.0</td><td>369.0</td><td>19.0</td><td>19.0</td><td>19.0</td><td>19.0</td><td>4798.0</td><td>5451.0</td><td>5107.0</td><td>4595.0</td><td>19.0</td><td>19.0</td><td>19.0</td><td>19.0</td><td>21.0</td><td>220320.0</td><td>31.0</td><td>46.0</td><td>46.0</td><td>16.0</td><td>16.0</td><td>16.0</td><td>41.0</td><td>16.0</td><td>16.0</td><td>36.0</td><td>20.0</td><td>16.0</td><td>16.0</td><td>72.0</td><td>261.0</td><td>16.0</td><td>68.0</td><td>16.0</td><td>16.0</td><td>16.0</td><td>16.0</td><td>16.0</td><td>27.0</td><td>27.0</td><td>27.0</td><td>27.0</td><td>27.0</td><td>27.0</td><td>27.0</td><td>27.0</td><td>27.0</td><td>27.0</td><td>27.0</td><td>27.0</td><td>77017.0</td><td>15383.0</td><td>&quot;0&quot;</td></tr><tr><td>&quot;mean&quot;</td><td>&quot;2018-06-16 11:59:30&quot;</td><td>2.372221</td><td>47.591611</td><td>50.867392</td><td>43.752481</td><td>590.673936</td><td>73.396414</td><td>13.501537</td><td>15.843152</td><td>15.200721</td><td>14.79921</td><td>41.470339</td><td>41.918319</td><td>29.136975</td><td>7.078858</td><td>376.860041</td><td>null</td><td>416.472892</td><td>421.127517</td><td>2.303785</td><td>590.829775</td><td>360.805165</td><td>796.225942</td><td>459.792815</td><td>922.609264</td><td>556.235397</td><td>649.144799</td><td>786.411781</td><td>501.506589</td><td>851.690339</td><td>576.195305</td><td>614.596442</td><td>863.3231</td><td>804.283915</td><td>486.40598</td><td>234.971776</td><td>427.129817</td><td>593.033876</td><td>60.78736</td><td>49.655946</td><td>36.610444</td><td>68.84453</td><td>35.365126</td><td>35.453455</td><td>43.879591</td><td>42.656877</td><td>43.094984</td><td>48.018585</td><td>44.340903</td><td>150.889044</td><td>57.119968</td><td>183.04926</td><td>202.699667</td><td>null</td></tr><tr><td>&quot;std&quot;</td><td>null</td><td>0.412227</td><td>3.296666</td><td>3.66682</td><td>2.418887</td><td>144.023912</td><td>17.298247</td><td>2.163736</td><td>2.201155</td><td>2.03739</td><td>2.091963</td><td>12.093519</td><td>13.056425</td><td>10.113935</td><td>6.901755</td><td>113.206382</td><td>null</td><td>126.072642</td><td>129.156175</td><td>0.765883</td><td>199.34582</td><td>101.974118</td><td>226.679317</td><td>154.528337</td><td>291.83528</td><td>182.297979</td><td>220.865166</td><td>246.663608</td><td>169.823173</td><td>313.074032</td><td>225.764091</td><td>195.726872</td><td>283.54476</td><td>260.602361</td><td>150.751836</td><td>88.376065</td><td>141.772519</td><td>289.385511</td><td>37.604883</td><td>10.540397</td><td>15.613723</td><td>21.371139</td><td>7.898665</td><td>10.259521</td><td>11.044404</td><td>11.576355</td><td>12.83752</td><td>15.641284</td><td>10.442437</td><td>82.244957</td><td>19.143598</td><td>65.25865</td><td>109.588607</td><td>null</td></tr><tr><td>&quot;min&quot;</td><td>&quot;2018-04-01 00:00:00&quot;</td><td>0.0</td><td>0.0</td><td>33.15972</td><td>31.64062</td><td>2.798032</td><td>0.0</td><td>0.014468</td><td>0.0</td><td>0.028935</td><td>0.0</td><td>0.0</td><td>0.0</td><td>0.0</td><td>0.0</td><td>32.40955</td><td>null</td><td>0.0</td><td>0.0</td><td>0.0</td><td>0.0</td><td>0.0</td><td>95.52766</td><td>0.0</td><td>0.0</td><td>0.0</td><td>0.0</td><td>43.15479</td><td>0.0</td><td>4.319347</td><td>0.6365742</td><td>0.0</td><td>23.95833</td><td>0.2407161</td><td>6.460602</td><td>54.88237</td><td>0.0</td><td>2.26097</td><td>0.0</td><td>24.479166</td><td>19.27083</td><td>23.4375</td><td>20.83333</td><td>22.135416</td><td>24.479166</td><td>25.752316</td><td>26.331018</td><td>26.331018</td><td>27.19907</td><td>26.331018</td><td>26.62037</td><td>27.488426</td><td>27.777779</td><td>&quot;BROKEN&quot;</td></tr><tr><td>&quot;25%&quot;</td><td>&quot;2018-05-09 06:00:00&quot;</td><td>2.438831</td><td>46.31076</td><td>50.39062</td><td>42.838539</td><td>626.6204</td><td>69.97626</td><td>13.34635</td><td>15.90712</td><td>15.18374</td><td>15.05353</td><td>40.70526</td><td>38.85642</td><td>28.68681</td><td>1.538516</td><td>418.1034</td><td>null</td><td>459.4534</td><td>454.1388</td><td>2.447542</td><td>662.769</td><td>398.0215</td><td>875.4644</td><td>478.9629</td><td>950.9224</td><td>601.1511</td><td>693.9578</td><td>790.4904</td><td>448.298</td><td>782.6827</td><td>518.9474</td><td>627.7778</td><td>839.0624</td><td>760.6094</td><td>489.7611</td><td>172.4863</td><td>353.1768</td><td>288.5484</td><td>28.80006</td><td>45.57291</td><td>32.55208</td><td>57.8125</td><td>32.55208</td><td>32.8125</td><td>39.58333</td><td>36.747684</td><td>36.747684</td><td>40.509258</td><td>39.0625</td><td>83.91203</td><td>47.74306</td><td>167.5347</td><td>179.1088</td><td>null</td></tr><tr><td>&quot;50%&quot;</td><td>&quot;2018-06-16 12:00:00&quot;</td><td>2.456539</td><td>48.133678</td><td>51.6493</td><td>44.227428</td><td>632.638916</td><td>75.57679</td><td>13.64294</td><td>16.16753</td><td>15.49479</td><td>15.08247</td><td>44.29134</td><td>45.36314</td><td>32.51583</td><td>2.929809</td><td>420.1062</td><td>null</td><td>462.8561</td><td>462.0203</td><td>2.533704</td><td>665.6724</td><td>399.367</td><td>879.6976</td><td>531.8559</td><td>981.925</td><td>625.8735</td><td>740.2035</td><td>861.8698</td><td>494.4685</td><td>967.2799</td><td>564.8727</td><td>668.9814</td><td>917.7083</td><td>878.8509</td><td>512.2726</td><td>226.3568</td><td>473.3495</td><td>709.6692</td><td>64.29585</td><td>49.47916</td><td>35.41666</td><td>66.40625</td><td>34.895832</td><td>35.15625</td><td>42.96875</td><td>40.50926</td><td>40.21991</td><td>44.84954</td><td>42.53472</td><td>138.0208</td><td>52.66204</td><td>193.8657</td><td>197.338</td><td>null</td></tr><tr><td>&quot;75%&quot;</td><td>&quot;2018-07-24 17:59:00&quot;</td><td>2.499826</td><td>49.47916</td><td>52.77777</td><td>45.3125</td><td>637.615723</td><td>80.91215</td><td>14.53993</td><td>16.42795</td><td>15.69734</td><td>15.11863</td><td>47.46376</td><td>49.65654</td><td>34.93973</td><td>12.85952</td><td>420.9971</td><td>null</td><td>464.3027</td><td>466.8571</td><td>2.587682</td><td>667.1467</td><td>400.0884</td><td>882.1299</td><td>534.2549</td><td>1090.808</td><td>628.6077</td><td>750.3571</td><td>919.1047</td><td>536.2745</td><td>1043.976</td><td>744.0214</td><td>697.2222</td><td>981.2499</td><td>943.8776</td><td>555.163</td><td>316.8443</td><td>528.8909</td><td>837.3322</td><td>90.82187</td><td>53.64583</td><td>39.0625</td><td>77.86458</td><td>37.76041</td><td>36.979164</td><td>46.61458</td><td>45.13889</td><td>44.84954</td><td>51.21528</td><td>46.58565</td><td>208.3333</td><td>60.76389</td><td>219.9074</td><td>216.7245</td><td>null</td></tr><tr><td>&quot;max&quot;</td><td>&quot;2018-08-31 23:59:00&quot;</td><td>2.549016</td><td>56.72743</td><td>56.03299</td><td>48.22049</td><td>800.0</td><td>99.99988</td><td>22.25116</td><td>23.59664</td><td>24.34896</td><td>25.0</td><td>76.10686</td><td>60.0</td><td>45.0</td><td>31.18755</td><td>500.0</td><td>null</td><td>739.7415</td><td>599.999939</td><td>4.87325</td><td>878.9179</td><td>448.9079</td><td>1107.526</td><td>594.0611</td><td>1227.564</td><td>1000.0</td><td>839.575</td><td>1214.42</td><td>2000.0</td><td>1841.146</td><td>1466.281</td><td>1600.0</td><td>1800.0</td><td>1839.211</td><td>1578.6</td><td>425.5498</td><td>694.479126</td><td>984.0607</td><td>174.9012</td><td>417.7083</td><td>547.9166</td><td>512.7604</td><td>420.3125</td><td>374.2188</td><td>408.5937</td><td>1000.0</td><td>320.3125</td><td>370.3704</td><td>303.5301</td><td>561.632</td><td>464.4097</td><td>1000.0</td><td>1000.0</td><td>&quot;RECOVERING&quot;</td></tr></tbody></table></div>"
      ],
      "text/plain": [
       "shape: (9, 55)\n",
       "┌───────────┬───────────┬───────────┬───────────┬───┬───────────┬───────────┬───────────┬──────────┐\n",
       "│ statistic ┆ timestamp ┆ sensor_00 ┆ sensor_01 ┆ … ┆ sensor_49 ┆ sensor_50 ┆ sensor_51 ┆ machine_ │\n",
       "│ ---       ┆ ---       ┆ ---       ┆ ---       ┆   ┆ ---       ┆ ---       ┆ ---       ┆ status   │\n",
       "│ str       ┆ str       ┆ f64       ┆ f64       ┆   ┆ f64       ┆ f64       ┆ f64       ┆ ---      │\n",
       "│           ┆           ┆           ┆           ┆   ┆           ┆           ┆           ┆ str      │\n",
       "╞═══════════╪═══════════╪═══════════╪═══════════╪═══╪═══════════╪═══════════╪═══════════╪══════════╡\n",
       "│ count     ┆ 220320    ┆ 210112.0  ┆ 219951.0  ┆ … ┆ 220293.0  ┆ 143303.0  ┆ 204937.0  ┆ 220320   │\n",
       "│ null_coun ┆ 0         ┆ 10208.0   ┆ 369.0     ┆ … ┆ 27.0      ┆ 77017.0   ┆ 15383.0   ┆ 0        │\n",
       "│ t         ┆           ┆           ┆           ┆   ┆           ┆           ┆           ┆          │\n",
       "│ mean      ┆ 2018-06-1 ┆ 2.372221  ┆ 47.591611 ┆ … ┆ 57.119968 ┆ 183.04926 ┆ 202.69966 ┆ null     │\n",
       "│           ┆ 6         ┆           ┆           ┆   ┆           ┆           ┆ 7         ┆          │\n",
       "│           ┆ 11:59:30  ┆           ┆           ┆   ┆           ┆           ┆           ┆          │\n",
       "│ std       ┆ null      ┆ 0.412227  ┆ 3.296666  ┆ … ┆ 19.143598 ┆ 65.25865  ┆ 109.58860 ┆ null     │\n",
       "│           ┆           ┆           ┆           ┆   ┆           ┆           ┆ 7         ┆          │\n",
       "│ min       ┆ 2018-04-0 ┆ 0.0       ┆ 0.0       ┆ … ┆ 26.62037  ┆ 27.488426 ┆ 27.777779 ┆ BROKEN   │\n",
       "│           ┆ 1         ┆           ┆           ┆   ┆           ┆           ┆           ┆          │\n",
       "│           ┆ 00:00:00  ┆           ┆           ┆   ┆           ┆           ┆           ┆          │\n",
       "│ 25%       ┆ 2018-05-0 ┆ 2.438831  ┆ 46.31076  ┆ … ┆ 47.74306  ┆ 167.5347  ┆ 179.1088  ┆ null     │\n",
       "│           ┆ 9         ┆           ┆           ┆   ┆           ┆           ┆           ┆          │\n",
       "│           ┆ 06:00:00  ┆           ┆           ┆   ┆           ┆           ┆           ┆          │\n",
       "│ 50%       ┆ 2018-06-1 ┆ 2.456539  ┆ 48.133678 ┆ … ┆ 52.66204  ┆ 193.8657  ┆ 197.338   ┆ null     │\n",
       "│           ┆ 6         ┆           ┆           ┆   ┆           ┆           ┆           ┆          │\n",
       "│           ┆ 12:00:00  ┆           ┆           ┆   ┆           ┆           ┆           ┆          │\n",
       "│ 75%       ┆ 2018-07-2 ┆ 2.499826  ┆ 49.47916  ┆ … ┆ 60.76389  ┆ 219.9074  ┆ 216.7245  ┆ null     │\n",
       "│           ┆ 4         ┆           ┆           ┆   ┆           ┆           ┆           ┆          │\n",
       "│           ┆ 17:59:00  ┆           ┆           ┆   ┆           ┆           ┆           ┆          │\n",
       "│ max       ┆ 2018-08-3 ┆ 2.549016  ┆ 56.72743  ┆ … ┆ 464.4097  ┆ 1000.0    ┆ 1000.0    ┆ RECOVERI │\n",
       "│           ┆ 1         ┆           ┆           ┆   ┆           ┆           ┆           ┆ NG       │\n",
       "│           ┆ 23:59:00  ┆           ┆           ┆   ┆           ┆           ┆           ┆          │\n",
       "└───────────┴───────────┴───────────┴───────────┴───┴───────────┴───────────┴───────────┴──────────┘"
      ]
     },
     "execution_count": 24,
     "metadata": {},
     "output_type": "execute_result"
    }
   ],
   "source": [
    "# Load the parquet file\n",
    "df = pls.read_parquet('data/dummy_data/sensor.parquet')\n",
    "\n",
    "# Convert 'timestamp' column to datetime (including H:M:S)\n",
    "df = df.with_columns(\n",
    "    pls.col('timestamp').str.to_datetime(\"%Y-%m-%d %H:%M:%S\")\n",
    ")\n",
    "\n",
    "df.describe()"
   ]
  },
  {
   "cell_type": "code",
   "execution_count": 22,
   "metadata": {},
   "outputs": [
    {
     "data": {
      "text/html": [
       "<div><style>\n",
       ".dataframe > thead > tr,\n",
       ".dataframe > tbody > tr {\n",
       "  text-align: right;\n",
       "  white-space: pre-wrap;\n",
       "}\n",
       "</style>\n",
       "<small>shape: (2, 54)</small><table border=\"1\" class=\"dataframe\"><thead><tr><th>timestamp</th><th>sensor_00</th><th>sensor_01</th><th>sensor_02</th><th>sensor_03</th><th>sensor_04</th><th>sensor_05</th><th>sensor_06</th><th>sensor_07</th><th>sensor_08</th><th>sensor_09</th><th>sensor_10</th><th>sensor_11</th><th>sensor_12</th><th>sensor_13</th><th>sensor_14</th><th>sensor_15</th><th>sensor_16</th><th>sensor_17</th><th>sensor_18</th><th>sensor_19</th><th>sensor_20</th><th>sensor_21</th><th>sensor_22</th><th>sensor_23</th><th>sensor_24</th><th>sensor_25</th><th>sensor_26</th><th>sensor_27</th><th>sensor_28</th><th>sensor_29</th><th>sensor_30</th><th>sensor_31</th><th>sensor_32</th><th>sensor_33</th><th>sensor_34</th><th>sensor_35</th><th>sensor_36</th><th>sensor_37</th><th>sensor_38</th><th>sensor_39</th><th>sensor_40</th><th>sensor_41</th><th>sensor_42</th><th>sensor_43</th><th>sensor_44</th><th>sensor_45</th><th>sensor_46</th><th>sensor_47</th><th>sensor_48</th><th>sensor_49</th><th>sensor_50</th><th>sensor_51</th><th>machine_status</th></tr><tr><td>datetime[μs]</td><td>f64</td><td>f64</td><td>f64</td><td>f64</td><td>f64</td><td>f64</td><td>f64</td><td>f64</td><td>f64</td><td>f64</td><td>f64</td><td>f64</td><td>f64</td><td>f64</td><td>f64</td><td>f64</td><td>f64</td><td>f64</td><td>f64</td><td>f64</td><td>f64</td><td>f64</td><td>f64</td><td>f64</td><td>f64</td><td>f64</td><td>f64</td><td>f64</td><td>f64</td><td>f64</td><td>f64</td><td>f64</td><td>f64</td><td>f64</td><td>f64</td><td>f64</td><td>f64</td><td>f64</td><td>f64</td><td>f64</td><td>f64</td><td>f64</td><td>f64</td><td>f64</td><td>f64</td><td>f64</td><td>f64</td><td>f64</td><td>f64</td><td>f64</td><td>f64</td><td>f64</td><td>str</td></tr></thead><tbody><tr><td>2018-04-01 00:00:00</td><td>2.465394</td><td>47.09201</td><td>53.2118</td><td>46.31076</td><td>634.375</td><td>76.45975</td><td>13.41146</td><td>16.13136</td><td>15.56713</td><td>15.05353</td><td>37.2274</td><td>47.52422</td><td>31.11716</td><td>1.681353</td><td>419.5747</td><td>null</td><td>461.8781</td><td>466.3284</td><td>2.565284</td><td>665.3993</td><td>398.9862</td><td>880.0001</td><td>498.8926</td><td>975.9409</td><td>627.674</td><td>741.7151</td><td>848.0708</td><td>429.0377</td><td>785.1935</td><td>684.9443</td><td>594.4445</td><td>682.8125</td><td>680.4416</td><td>433.7037</td><td>171.9375</td><td>341.9039</td><td>195.0655</td><td>90.32386</td><td>40.36458</td><td>31.51042</td><td>70.57291</td><td>30.98958</td><td>31.770832</td><td>41.92708</td><td>39.6412</td><td>65.68287</td><td>50.92593</td><td>38.19444</td><td>157.9861</td><td>67.70834</td><td>243.0556</td><td>201.3889</td><td>&quot;NORMAL&quot;</td></tr><tr><td>2018-04-01 00:01:00</td><td>2.465394</td><td>47.09201</td><td>53.2118</td><td>46.31076</td><td>634.375</td><td>76.45975</td><td>13.41146</td><td>16.13136</td><td>15.56713</td><td>15.05353</td><td>37.2274</td><td>47.52422</td><td>31.11716</td><td>1.681353</td><td>419.5747</td><td>null</td><td>461.8781</td><td>466.3284</td><td>2.565284</td><td>665.3993</td><td>398.9862</td><td>880.0001</td><td>498.8926</td><td>975.9409</td><td>627.674</td><td>741.7151</td><td>848.0708</td><td>429.0377</td><td>785.1935</td><td>684.9443</td><td>594.4445</td><td>682.8125</td><td>680.4416</td><td>433.7037</td><td>171.9375</td><td>341.9039</td><td>195.0655</td><td>90.32386</td><td>40.36458</td><td>31.51042</td><td>70.57291</td><td>30.98958</td><td>31.770832</td><td>41.92708</td><td>39.6412</td><td>65.68287</td><td>50.92593</td><td>38.19444</td><td>157.9861</td><td>67.70834</td><td>243.0556</td><td>201.3889</td><td>&quot;NORMAL&quot;</td></tr></tbody></table></div>"
      ],
      "text/plain": [
       "shape: (2, 54)\n",
       "┌───────────┬───────────┬───────────┬───────────┬───┬───────────┬───────────┬───────────┬──────────┐\n",
       "│ timestamp ┆ sensor_00 ┆ sensor_01 ┆ sensor_02 ┆ … ┆ sensor_49 ┆ sensor_50 ┆ sensor_51 ┆ machine_ │\n",
       "│ ---       ┆ ---       ┆ ---       ┆ ---       ┆   ┆ ---       ┆ ---       ┆ ---       ┆ status   │\n",
       "│ datetime[ ┆ f64       ┆ f64       ┆ f64       ┆   ┆ f64       ┆ f64       ┆ f64       ┆ ---      │\n",
       "│ μs]       ┆           ┆           ┆           ┆   ┆           ┆           ┆           ┆ str      │\n",
       "╞═══════════╪═══════════╪═══════════╪═══════════╪═══╪═══════════╪═══════════╪═══════════╪══════════╡\n",
       "│ 2018-04-0 ┆ 2.465394  ┆ 47.09201  ┆ 53.2118   ┆ … ┆ 67.70834  ┆ 243.0556  ┆ 201.3889  ┆ NORMAL   │\n",
       "│ 1         ┆           ┆           ┆           ┆   ┆           ┆           ┆           ┆          │\n",
       "│ 00:00:00  ┆           ┆           ┆           ┆   ┆           ┆           ┆           ┆          │\n",
       "│ 2018-04-0 ┆ 2.465394  ┆ 47.09201  ┆ 53.2118   ┆ … ┆ 67.70834  ┆ 243.0556  ┆ 201.3889  ┆ NORMAL   │\n",
       "│ 1         ┆           ┆           ┆           ┆   ┆           ┆           ┆           ┆          │\n",
       "│ 00:01:00  ┆           ┆           ┆           ┆   ┆           ┆           ┆           ┆          │\n",
       "└───────────┴───────────┴───────────┴───────────┴───┴───────────┴───────────┴───────────┴──────────┘"
      ]
     },
     "execution_count": 22,
     "metadata": {},
     "output_type": "execute_result"
    }
   ],
   "source": [
    "df.head(2)"
   ]
  },
  {
   "cell_type": "code",
   "execution_count": 25,
   "metadata": {},
   "outputs": [
    {
     "data": {
      "text/html": [
       "<div><style>\n",
       ".dataframe > thead > tr,\n",
       ".dataframe > tbody > tr {\n",
       "  text-align: right;\n",
       "  white-space: pre-wrap;\n",
       "}\n",
       "</style>\n",
       "<small>shape: (3, 2)</small><table border=\"1\" class=\"dataframe\"><thead><tr><th>machine_status</th><th>count</th></tr><tr><td>str</td><td>u32</td></tr></thead><tbody><tr><td>&quot;RECOVERING&quot;</td><td>14477</td></tr><tr><td>&quot;BROKEN&quot;</td><td>7</td></tr><tr><td>&quot;NORMAL&quot;</td><td>205836</td></tr></tbody></table></div>"
      ],
      "text/plain": [
       "shape: (3, 2)\n",
       "┌────────────────┬────────┐\n",
       "│ machine_status ┆ count  │\n",
       "│ ---            ┆ ---    │\n",
       "│ str            ┆ u32    │\n",
       "╞════════════════╪════════╡\n",
       "│ RECOVERING     ┆ 14477  │\n",
       "│ BROKEN         ┆ 7      │\n",
       "│ NORMAL         ┆ 205836 │\n",
       "└────────────────┴────────┘"
      ]
     },
     "execution_count": 25,
     "metadata": {},
     "output_type": "execute_result"
    }
   ],
   "source": [
    "df['machine_status'].value_counts()\n"
   ]
  },
  {
   "cell_type": "markdown",
   "metadata": {},
   "source": [
    "### Visualizations"
   ]
  }
 ],
 "metadata": {
  "kernelspec": {
   "display_name": "vibration-analysis-btp-k-IHReaf-py3.10",
   "language": "python",
   "name": "python3"
  },
  "language_info": {
   "codemirror_mode": {
    "name": "ipython",
    "version": 3
   },
   "file_extension": ".py",
   "mimetype": "text/x-python",
   "name": "python",
   "nbconvert_exporter": "python",
   "pygments_lexer": "ipython3",
   "version": "3.10.12"
  }
 },
 "nbformat": 4,
 "nbformat_minor": 2
}
